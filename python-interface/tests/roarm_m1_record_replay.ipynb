{
 "cells": [
  {
   "cell_type": "code",
   "execution_count": null,
   "id": "77b80dd2",
   "metadata": {},
   "outputs": [],
   "source": [
    "import time\n",
    "import beachbot\n"
   ]
  },
  {
   "cell_type": "code",
   "execution_count": null,
   "id": "787d6d1b",
   "metadata": {},
   "outputs": [],
   "source": [
    "# Connect to robot arm:\n",
    "arm1 = beachbot.manipulators.RoArmM1()"
   ]
  },
  {
   "cell_type": "code",
   "execution_count": null,
   "id": "8692f99b",
   "metadata": {},
   "outputs": [],
   "source": [
    "# Plot joint data:\n",
    "for i in range(10):\n",
    "    time.sleep(1)\n",
    "    q,tau = arm1.get_joint_state()\n",
    "    print(\"Current joint angles:\\t\", q)\n",
    "    print(\"Current tourques:\\t\", tau)"
   ]
  },
  {
   "cell_type": "code",
   "execution_count": null,
   "id": "cad5a80e",
   "metadata": {},
   "outputs": [],
   "source": [
    "# Move left and right (10 deg) from home position (joint 1)\n",
    "for i in range(5):\n",
    "    time.sleep(1)\n",
    "    arm1.set_joint_targets(arm1.q_home)\n",
    "    time.sleep(1)\n",
    "    qn = arm1.q_home[:]\n",
    "    qn[0]+=10\n",
    "    arm1.set_joint_targets(qn)\n",
    "    \n",
    "time.sleep(1)\n",
    "arm1.set_joint_targets(arm1.q_home)"
   ]
  },
  {
   "cell_type": "code",
   "execution_count": null,
   "id": "3b5ccfac",
   "metadata": {},
   "outputs": [],
   "source": [
    "# Default gripper open, home position\n",
    "arm1.set_joint_targets([180.0, -12, 100.2832031, 45.0, 180.0])"
   ]
  },
  {
   "cell_type": "code",
   "execution_count": null,
   "id": "5d8cbbe4",
   "metadata": {},
   "outputs": [],
   "source": [
    "# Default gripper close, home pos\n",
    "arm1.set_joint_targets([180.0, -12, 100.2832031, 45.0, 260.0])"
   ]
  },
  {
   "cell_type": "code",
   "execution_count": null,
   "id": "5ee1c329",
   "metadata": {},
   "outputs": [],
   "source": [
    "# Half open gripper\n",
    "arm1.set_gripper(0.5)\n",
    "time.sleep(3)\n",
    "\n",
    "# Close gripper\n",
    "arm1.set_gripper(1)\n",
    "time.sleep(3)\n",
    "\n",
    "\n",
    "# Open Gripper\n",
    "arm1.set_gripper(0)\n"
   ]
  },
  {
   "cell_type": "code",
   "execution_count": null,
   "id": "125a0f84",
   "metadata": {},
   "outputs": [],
   "source": [
    "# Record trajectory:\n",
    "# Records max 250 steps (0.1 deg deviation of one joint -> record step is taken, max 25 Hz sampling of the robot)\n",
    "# If there is no change for 10 seconds -> finish recording\n",
    "\n",
    "qs,taus,ts = arm1.record_trajectory()\n"
   ]
  },
  {
   "cell_type": "code",
   "execution_count": null,
   "id": "5694720d",
   "metadata": {},
   "outputs": [],
   "source": [
    "print(\"Recoding entries:\", qs.shape[0])\n",
    "print(\"Recoding duration:\", ts[-1])\n",
    "# qs: joint angles\n",
    "# taus: torques\n",
    "# ts: timestamps\n",
    "\n",
    "print(\"\\n\\nStart replay (replay based on record time stamps)...\")\n",
    "arm1.replay_trajectory(qs,ts)\n",
    "print(\"Done!\")\n"
   ]
  },
  {
   "cell_type": "code",
   "execution_count": null,
   "id": "5c2c963c",
   "metadata": {},
   "outputs": [],
   "source": []
  }
 ],
 "metadata": {
  "kernelspec": {
   "display_name": "Python 3 (ipykernel)",
   "language": "python",
   "name": "python3"
  },
  "language_info": {
   "codemirror_mode": {
    "name": "ipython",
    "version": 3
   },
   "file_extension": ".py",
   "mimetype": "text/x-python",
   "name": "python",
   "nbconvert_exporter": "python",
   "pygments_lexer": "ipython3",
   "version": "3.11.6"
  }
 },
 "nbformat": 4,
 "nbformat_minor": 5
}
